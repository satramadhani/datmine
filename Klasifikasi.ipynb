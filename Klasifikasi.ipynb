{
 "cells": [
  {
   "cell_type": "markdown",
   "id": "1f6be7dd",
   "metadata": {},
   "source": [
    "# Deteksi Kecurangan pada Sistem *Checkout* Mandiri di Toko Ritel\n",
    "## *- Fraud detection at Self-Checkouts in Retail -*\n",
    "\n",
    "Kami dari **Kelompok 01** yang beranggotakan:\n",
    "\n",
    "* NIM. 2001123 - Muhamad Fikri Nur Bakhtiar\n",
    "* NIM. 2005128 - Muhammad Satria Ramadhani\n",
    "* NIM. 2009085 - Wildan Septi Ramadhan\n",
    "\n",
    "Mengerjakan tugas Klasifikasi pada mata kuliah **Data Mining & Warehouse** dengan menggunakan dataset **\"*Fraud Detection at Self-Checkouts in Retail*\"**. Adapun sumber dataset dapat diakses melalui:\n",
    "**https://www.data-mining-cup.com/reviews/dmc-2019/**"
   ]
  },
  {
   "cell_type": "markdown",
   "id": "8e241d47",
   "metadata": {},
   "source": [
    "## Dokumentasi.\n",
    "\n",
    "### Deskripsi dataset.\n",
    "Akhir-akhir ini, jumlah stasiun yang menggunakan sistem pembayaran mandiri (*self-checkouts station*) terus meningkat. Stasiun ini terbagi ke dalam dua bagian, yakni:\n",
    "\n",
    "* *Stationary self-checkouts*, di mana pelanggan membawa keranjang mereka ke tempat pemindaian abrang dan membayar produk mereka.\n",
    "* *Semi-stationary self-checkouts*, di mana pelanggan memindai langsung produk mereka, kemudian membayarnya di loket pembayaran. Di sini, toko menyediakan alat pemindainya atau pelanggan menggunakan *smartphone* masing-masing.\n",
    "\n",
    "Tentu saja, proses otomatis ini mampu menghilangkan antrean yang panjang dan mempercepat proses pembayaran. Akan tetapi, bagaimana *retailer* mencegah penyalahgunaan yang bisa dilakukan oleh pelanggan? Bagaimana mereka memutuskan pelanggan mana yang harus diperiksa tanpa mengganggu kenyamanan pelanggan lain?\n",
    "\n",
    "Tujuan model klasifikasi ini adalah untuk mendeteksi, apakah seseorang mencurangi belanjaannya atau tidak.\n",
    "\n",
    "### Keterangan parameter.\n",
    "* **trustLevel** - Tingkat kepercayaan pelanggan, dalam bentuk bilangan bulat (1 = terendah, 6 = tertinggi).\n",
    "* **totalScanTimeinSeconds** - Total waktu pemindaian antara produk pertama hingga produk terakhir, dalam bentuk bilangan bulat (detik).\n",
    "* **grandTotal** - Total besar produk yang dipindai, dalam bentuk bilangan desimal.\n",
    "* **lineItemVoids** - Jumlah pemindaian yang dibatalkan, dalam bentuk bilangan bulat.\n",
    "* **scanWithoutRegistration** - Jumlah percobaan untuk menyalakan alat pemindai tanpa pemindai apapun, dalam bentuk bilangan bulat.\n",
    "* **quantityModification** - Jumlah produk yang dipindai yang kuantitasnya dimodifikasi, dalam bentuk bilangan bulat.\n",
    "* **scannedLineItemsPerSecond** - Rata-rata jumlah produk dipindai setiap detiknya, dalam bentuk bilangan bulat.\n",
    "* **valuePerSecond** - Rata-rata nilai produk yang dipindai setiap detiknya, dalam bentuk bilangan desimal.\n",
    "* **lineItemVoidsPerPosition** -\n",
    "* ***fraud*** - Hasil klasifikasi, apakah pelanggan melakukan kecurangan (1 / fraud) atau tidak (0 / non-fraud)."
   ]
  },
  {
   "cell_type": "markdown",
   "id": "66980610",
   "metadata": {},
   "source": [
    "## Inisialisasi pustaka umum dan dataset ke Jupyter Notebook.\n",
    "Bagian ini bisa diabaikan."
   ]
  },
  {
   "cell_type": "code",
   "execution_count": 1,
   "id": "93462a7d",
   "metadata": {},
   "outputs": [],
   "source": [
    "%matplotlib inline\n",
    "import matplotlib.pyplot as plt\n",
    "import numpy as np\n",
    "import pandas as pd\n",
    "import seaborn as sns"
   ]
  },
  {
   "cell_type": "code",
   "execution_count": 2,
   "id": "045900c6",
   "metadata": {},
   "outputs": [
    {
     "data": {
      "text/html": [
       "<div>\n",
       "<style scoped>\n",
       "    .dataframe tbody tr th:only-of-type {\n",
       "        vertical-align: middle;\n",
       "    }\n",
       "\n",
       "    .dataframe tbody tr th {\n",
       "        vertical-align: top;\n",
       "    }\n",
       "\n",
       "    .dataframe thead th {\n",
       "        text-align: right;\n",
       "    }\n",
       "</style>\n",
       "<table border=\"1\" class=\"dataframe\">\n",
       "  <thead>\n",
       "    <tr style=\"text-align: right;\">\n",
       "      <th></th>\n",
       "      <th>trustLevel</th>\n",
       "      <th>totalScanTimeInSeconds</th>\n",
       "      <th>grandTotal</th>\n",
       "      <th>lineItemVoids</th>\n",
       "      <th>scansWithoutRegistration</th>\n",
       "      <th>quantityModifications</th>\n",
       "      <th>scannedLineItemsPerSecond</th>\n",
       "      <th>valuePerSecond</th>\n",
       "      <th>lineItemVoidsPerPosition</th>\n",
       "      <th>fraud</th>\n",
       "    </tr>\n",
       "  </thead>\n",
       "  <tbody>\n",
       "    <tr>\n",
       "      <th>0</th>\n",
       "      <td>5</td>\n",
       "      <td>1054</td>\n",
       "      <td>54.70</td>\n",
       "      <td>7</td>\n",
       "      <td>0</td>\n",
       "      <td>3</td>\n",
       "      <td>0.027514</td>\n",
       "      <td>0.051898</td>\n",
       "      <td>0.241379</td>\n",
       "      <td>0</td>\n",
       "    </tr>\n",
       "    <tr>\n",
       "      <th>1</th>\n",
       "      <td>3</td>\n",
       "      <td>108</td>\n",
       "      <td>27.36</td>\n",
       "      <td>5</td>\n",
       "      <td>2</td>\n",
       "      <td>4</td>\n",
       "      <td>0.129630</td>\n",
       "      <td>0.253333</td>\n",
       "      <td>0.357143</td>\n",
       "      <td>0</td>\n",
       "    </tr>\n",
       "    <tr>\n",
       "      <th>2</th>\n",
       "      <td>3</td>\n",
       "      <td>1516</td>\n",
       "      <td>62.16</td>\n",
       "      <td>3</td>\n",
       "      <td>10</td>\n",
       "      <td>5</td>\n",
       "      <td>0.008575</td>\n",
       "      <td>0.041003</td>\n",
       "      <td>0.230769</td>\n",
       "      <td>0</td>\n",
       "    </tr>\n",
       "    <tr>\n",
       "      <th>3</th>\n",
       "      <td>6</td>\n",
       "      <td>1791</td>\n",
       "      <td>92.31</td>\n",
       "      <td>8</td>\n",
       "      <td>4</td>\n",
       "      <td>4</td>\n",
       "      <td>0.016192</td>\n",
       "      <td>0.051541</td>\n",
       "      <td>0.275862</td>\n",
       "      <td>0</td>\n",
       "    </tr>\n",
       "    <tr>\n",
       "      <th>4</th>\n",
       "      <td>5</td>\n",
       "      <td>430</td>\n",
       "      <td>81.53</td>\n",
       "      <td>3</td>\n",
       "      <td>7</td>\n",
       "      <td>2</td>\n",
       "      <td>0.062791</td>\n",
       "      <td>0.189605</td>\n",
       "      <td>0.111111</td>\n",
       "      <td>0</td>\n",
       "    </tr>\n",
       "    <tr>\n",
       "      <th>...</th>\n",
       "      <td>...</td>\n",
       "      <td>...</td>\n",
       "      <td>...</td>\n",
       "      <td>...</td>\n",
       "      <td>...</td>\n",
       "      <td>...</td>\n",
       "      <td>...</td>\n",
       "      <td>...</td>\n",
       "      <td>...</td>\n",
       "      <td>...</td>\n",
       "    </tr>\n",
       "    <tr>\n",
       "      <th>1874</th>\n",
       "      <td>1</td>\n",
       "      <td>321</td>\n",
       "      <td>76.03</td>\n",
       "      <td>8</td>\n",
       "      <td>7</td>\n",
       "      <td>2</td>\n",
       "      <td>0.071651</td>\n",
       "      <td>0.236854</td>\n",
       "      <td>0.347826</td>\n",
       "      <td>0</td>\n",
       "    </tr>\n",
       "    <tr>\n",
       "      <th>1875</th>\n",
       "      <td>1</td>\n",
       "      <td>397</td>\n",
       "      <td>41.89</td>\n",
       "      <td>5</td>\n",
       "      <td>5</td>\n",
       "      <td>0</td>\n",
       "      <td>0.065491</td>\n",
       "      <td>0.105516</td>\n",
       "      <td>0.192308</td>\n",
       "      <td>1</td>\n",
       "    </tr>\n",
       "    <tr>\n",
       "      <th>1876</th>\n",
       "      <td>4</td>\n",
       "      <td>316</td>\n",
       "      <td>41.83</td>\n",
       "      <td>5</td>\n",
       "      <td>8</td>\n",
       "      <td>1</td>\n",
       "      <td>0.094937</td>\n",
       "      <td>0.132373</td>\n",
       "      <td>0.166667</td>\n",
       "      <td>0</td>\n",
       "    </tr>\n",
       "    <tr>\n",
       "      <th>1877</th>\n",
       "      <td>2</td>\n",
       "      <td>685</td>\n",
       "      <td>62.68</td>\n",
       "      <td>1</td>\n",
       "      <td>6</td>\n",
       "      <td>2</td>\n",
       "      <td>0.035036</td>\n",
       "      <td>0.091504</td>\n",
       "      <td>0.041667</td>\n",
       "      <td>0</td>\n",
       "    </tr>\n",
       "    <tr>\n",
       "      <th>1878</th>\n",
       "      <td>4</td>\n",
       "      <td>1140</td>\n",
       "      <td>38.03</td>\n",
       "      <td>2</td>\n",
       "      <td>2</td>\n",
       "      <td>3</td>\n",
       "      <td>0.016667</td>\n",
       "      <td>0.033360</td>\n",
       "      <td>0.105263</td>\n",
       "      <td>0</td>\n",
       "    </tr>\n",
       "  </tbody>\n",
       "</table>\n",
       "<p>1879 rows × 10 columns</p>\n",
       "</div>"
      ],
      "text/plain": [
       "      trustLevel  totalScanTimeInSeconds  grandTotal  lineItemVoids  \\\n",
       "0              5                    1054       54.70              7   \n",
       "1              3                     108       27.36              5   \n",
       "2              3                    1516       62.16              3   \n",
       "3              6                    1791       92.31              8   \n",
       "4              5                     430       81.53              3   \n",
       "...          ...                     ...         ...            ...   \n",
       "1874           1                     321       76.03              8   \n",
       "1875           1                     397       41.89              5   \n",
       "1876           4                     316       41.83              5   \n",
       "1877           2                     685       62.68              1   \n",
       "1878           4                    1140       38.03              2   \n",
       "\n",
       "      scansWithoutRegistration  quantityModifications  \\\n",
       "0                            0                      3   \n",
       "1                            2                      4   \n",
       "2                           10                      5   \n",
       "3                            4                      4   \n",
       "4                            7                      2   \n",
       "...                        ...                    ...   \n",
       "1874                         7                      2   \n",
       "1875                         5                      0   \n",
       "1876                         8                      1   \n",
       "1877                         6                      2   \n",
       "1878                         2                      3   \n",
       "\n",
       "      scannedLineItemsPerSecond  valuePerSecond  lineItemVoidsPerPosition  \\\n",
       "0                      0.027514        0.051898                  0.241379   \n",
       "1                      0.129630        0.253333                  0.357143   \n",
       "2                      0.008575        0.041003                  0.230769   \n",
       "3                      0.016192        0.051541                  0.275862   \n",
       "4                      0.062791        0.189605                  0.111111   \n",
       "...                         ...             ...                       ...   \n",
       "1874                   0.071651        0.236854                  0.347826   \n",
       "1875                   0.065491        0.105516                  0.192308   \n",
       "1876                   0.094937        0.132373                  0.166667   \n",
       "1877                   0.035036        0.091504                  0.041667   \n",
       "1878                   0.016667        0.033360                  0.105263   \n",
       "\n",
       "      fraud  \n",
       "0         0  \n",
       "1         0  \n",
       "2         0  \n",
       "3         0  \n",
       "4         0  \n",
       "...     ...  \n",
       "1874      0  \n",
       "1875      1  \n",
       "1876      0  \n",
       "1877      0  \n",
       "1878      0  \n",
       "\n",
       "[1879 rows x 10 columns]"
      ]
     },
     "execution_count": 2,
     "metadata": {},
     "output_type": "execute_result"
    }
   ],
   "source": [
    "# Direktori file menyesuaikan.\n",
    "df = pd.read_csv(\"D:\\\\University\\\\Semester 03\\\\Data Mining and Warehouse\\\\Klasifikasi\\\\train.csv\", sep = '|')\n",
    "df"
   ]
  },
  {
   "cell_type": "markdown",
   "id": "09d7f04a",
   "metadata": {},
   "source": [
    "## Praproses.\n",
    "Bagian ini akan memeriksa tipe data, mengubah nilai NaN, dan membersihkan data."
   ]
  },
  {
   "cell_type": "code",
   "execution_count": 3,
   "id": "abc6facd",
   "metadata": {},
   "outputs": [
    {
     "name": "stdout",
     "output_type": "stream",
     "text": [
      "<class 'pandas.core.frame.DataFrame'>\n",
      "RangeIndex: 1879 entries, 0 to 1878\n",
      "Data columns (total 10 columns):\n",
      " #   Column                     Non-Null Count  Dtype  \n",
      "---  ------                     --------------  -----  \n",
      " 0   trustLevel                 1879 non-null   int64  \n",
      " 1   totalScanTimeInSeconds     1879 non-null   int64  \n",
      " 2   grandTotal                 1879 non-null   float64\n",
      " 3   lineItemVoids              1879 non-null   int64  \n",
      " 4   scansWithoutRegistration   1879 non-null   int64  \n",
      " 5   quantityModifications      1879 non-null   int64  \n",
      " 6   scannedLineItemsPerSecond  1879 non-null   float64\n",
      " 7   valuePerSecond             1879 non-null   float64\n",
      " 8   lineItemVoidsPerPosition   1879 non-null   float64\n",
      " 9   fraud                      1879 non-null   int64  \n",
      "dtypes: float64(4), int64(6)\n",
      "memory usage: 146.9 KB\n"
     ]
    }
   ],
   "source": [
    "df.info()"
   ]
  },
  {
   "cell_type": "markdown",
   "id": "51053466",
   "metadata": {},
   "source": [
    "Semua data berbentuk numerik (int/float). Berdasarkan deskripsi parameter di atas, kami menyimpulkan bahwa semua data penting."
   ]
  },
  {
   "cell_type": "code",
   "execution_count": 4,
   "id": "8dd45a55",
   "metadata": {},
   "outputs": [
    {
     "data": {
      "text/plain": [
       "trustLevel                   0\n",
       "totalScanTimeInSeconds       0\n",
       "grandTotal                   0\n",
       "lineItemVoids                0\n",
       "scansWithoutRegistration     0\n",
       "quantityModifications        0\n",
       "scannedLineItemsPerSecond    0\n",
       "valuePerSecond               0\n",
       "lineItemVoidsPerPosition     0\n",
       "fraud                        0\n",
       "dtype: int64"
      ]
     },
     "execution_count": 4,
     "metadata": {},
     "output_type": "execute_result"
    }
   ],
   "source": [
    "df.isnull().sum()"
   ]
  },
  {
   "cell_type": "markdown",
   "id": "532aa6aa",
   "metadata": {},
   "source": [
    "Tidak ada data NaN, yang mana kami menyimpulkan data sudah bersih."
   ]
  },
  {
   "cell_type": "markdown",
   "id": "5c9bfa4c",
   "metadata": {},
   "source": [
    "## Pembelajaran dan Evaluasi.\n",
    "Bagian utama dari proses klasifikasi. Mesin akan \"mempelajari\" dataset menggunakan beberapa model klasifikasi dan membuat prediksi berdasarkan hasil pembelajaran tersebut.\n",
    "\n",
    "Ada 4 model klasifikasi yang digunakan:\n",
    "\n",
    "* Bayessian (Naive Bayes).\n",
    "* Decision Tree.\n",
    "* Random Forest.\n",
    "* XGBoost.\n",
    "\n",
    "Selain itu, semua klasifikasi mempunyai proses yang sama:\n",
    "\n",
    "* Inisialisasi model/algoritma pembelajaran.\n",
    "* Proses pembelajaran atau klasifikasi.\n",
    "* Menyimpan hasil prediksi dari data Test.\n",
    "* Menyimpan nilai akurasi.\n",
    "* Keluaran, berupa akurasi, hasil klasifikasi, dan confusion matrix."
   ]
  },
  {
   "cell_type": "markdown",
   "id": "8e02d488",
   "metadata": {},
   "source": [
    "### Inisialisasi pustaka algoritma untuk klasifikasi.\n",
    "Bagian ini bisa diabaikan."
   ]
  },
  {
   "cell_type": "code",
   "execution_count": 5,
   "id": "2589fc74",
   "metadata": {},
   "outputs": [],
   "source": [
    "# Split Dataset.\n",
    "from sklearn.model_selection import train_test_split\n",
    "import pickle\n",
    "\n",
    "# General.\n",
    "from sklearn.metrics import classification_report\n",
    "from sklearn.metrics import accuracy_score\n",
    "from sklearn.metrics import confusion_matrix\n",
    "\n",
    "# Naive Bayes.\n",
    "from sklearn.naive_bayes import GaussianNB\n",
    "\n",
    "# Decision Tree & Random Forest.\n",
    "from sklearn import tree\n",
    "from sklearn.ensemble import RandomForestClassifier\n",
    "\n",
    "# XGBoost.\n",
    "import xgboost as xgb\n",
    "\n",
    "# Save model.\n",
    "import joblib"
   ]
  },
  {
   "cell_type": "markdown",
   "id": "2bcd8873",
   "metadata": {},
   "source": [
    "### Split dataset.\n",
    "Bagian ini memisahkan antara data untuk *training* (train) dan untuk *testing* (test).\n",
    "\n",
    "* **X** - *Predictor*, atau kumpulan atribut yang akan dijadikan *feature*. X diambil dari semua atribut yang mempengaruhi **fraud**.\n",
    "* **Y** - *Response*, atau label yang akan dijadikan model prediksi. Y diambil dari data **fraud**.\n",
    "* **X_Train** - Data X untuk *training*.\n",
    "* **Y_Train** - Data Y untuk *training*.\n",
    "* **X_Test** - Data X untuk *testing*.\n",
    "* **Y_Test** - Data Y untuk *testing*."
   ]
  },
  {
   "cell_type": "markdown",
   "id": "b605d294",
   "metadata": {},
   "source": [
    "#### Memisahkan X dan Y."
   ]
  },
  {
   "cell_type": "code",
   "execution_count": 6,
   "id": "5d09d788",
   "metadata": {},
   "outputs": [
    {
     "data": {
      "text/html": [
       "<div>\n",
       "<style scoped>\n",
       "    .dataframe tbody tr th:only-of-type {\n",
       "        vertical-align: middle;\n",
       "    }\n",
       "\n",
       "    .dataframe tbody tr th {\n",
       "        vertical-align: top;\n",
       "    }\n",
       "\n",
       "    .dataframe thead th {\n",
       "        text-align: right;\n",
       "    }\n",
       "</style>\n",
       "<table border=\"1\" class=\"dataframe\">\n",
       "  <thead>\n",
       "    <tr style=\"text-align: right;\">\n",
       "      <th></th>\n",
       "      <th>trustLevel</th>\n",
       "      <th>totalScanTimeInSeconds</th>\n",
       "      <th>grandTotal</th>\n",
       "      <th>lineItemVoids</th>\n",
       "      <th>scansWithoutRegistration</th>\n",
       "      <th>quantityModifications</th>\n",
       "      <th>scannedLineItemsPerSecond</th>\n",
       "      <th>valuePerSecond</th>\n",
       "      <th>lineItemVoidsPerPosition</th>\n",
       "    </tr>\n",
       "  </thead>\n",
       "  <tbody>\n",
       "    <tr>\n",
       "      <th>0</th>\n",
       "      <td>5</td>\n",
       "      <td>1054</td>\n",
       "      <td>54.70</td>\n",
       "      <td>7</td>\n",
       "      <td>0</td>\n",
       "      <td>3</td>\n",
       "      <td>0.027514</td>\n",
       "      <td>0.051898</td>\n",
       "      <td>0.241379</td>\n",
       "    </tr>\n",
       "    <tr>\n",
       "      <th>1</th>\n",
       "      <td>3</td>\n",
       "      <td>108</td>\n",
       "      <td>27.36</td>\n",
       "      <td>5</td>\n",
       "      <td>2</td>\n",
       "      <td>4</td>\n",
       "      <td>0.129630</td>\n",
       "      <td>0.253333</td>\n",
       "      <td>0.357143</td>\n",
       "    </tr>\n",
       "    <tr>\n",
       "      <th>2</th>\n",
       "      <td>3</td>\n",
       "      <td>1516</td>\n",
       "      <td>62.16</td>\n",
       "      <td>3</td>\n",
       "      <td>10</td>\n",
       "      <td>5</td>\n",
       "      <td>0.008575</td>\n",
       "      <td>0.041003</td>\n",
       "      <td>0.230769</td>\n",
       "    </tr>\n",
       "    <tr>\n",
       "      <th>3</th>\n",
       "      <td>6</td>\n",
       "      <td>1791</td>\n",
       "      <td>92.31</td>\n",
       "      <td>8</td>\n",
       "      <td>4</td>\n",
       "      <td>4</td>\n",
       "      <td>0.016192</td>\n",
       "      <td>0.051541</td>\n",
       "      <td>0.275862</td>\n",
       "    </tr>\n",
       "    <tr>\n",
       "      <th>4</th>\n",
       "      <td>5</td>\n",
       "      <td>430</td>\n",
       "      <td>81.53</td>\n",
       "      <td>3</td>\n",
       "      <td>7</td>\n",
       "      <td>2</td>\n",
       "      <td>0.062791</td>\n",
       "      <td>0.189605</td>\n",
       "      <td>0.111111</td>\n",
       "    </tr>\n",
       "    <tr>\n",
       "      <th>...</th>\n",
       "      <td>...</td>\n",
       "      <td>...</td>\n",
       "      <td>...</td>\n",
       "      <td>...</td>\n",
       "      <td>...</td>\n",
       "      <td>...</td>\n",
       "      <td>...</td>\n",
       "      <td>...</td>\n",
       "      <td>...</td>\n",
       "    </tr>\n",
       "    <tr>\n",
       "      <th>1874</th>\n",
       "      <td>1</td>\n",
       "      <td>321</td>\n",
       "      <td>76.03</td>\n",
       "      <td>8</td>\n",
       "      <td>7</td>\n",
       "      <td>2</td>\n",
       "      <td>0.071651</td>\n",
       "      <td>0.236854</td>\n",
       "      <td>0.347826</td>\n",
       "    </tr>\n",
       "    <tr>\n",
       "      <th>1875</th>\n",
       "      <td>1</td>\n",
       "      <td>397</td>\n",
       "      <td>41.89</td>\n",
       "      <td>5</td>\n",
       "      <td>5</td>\n",
       "      <td>0</td>\n",
       "      <td>0.065491</td>\n",
       "      <td>0.105516</td>\n",
       "      <td>0.192308</td>\n",
       "    </tr>\n",
       "    <tr>\n",
       "      <th>1876</th>\n",
       "      <td>4</td>\n",
       "      <td>316</td>\n",
       "      <td>41.83</td>\n",
       "      <td>5</td>\n",
       "      <td>8</td>\n",
       "      <td>1</td>\n",
       "      <td>0.094937</td>\n",
       "      <td>0.132373</td>\n",
       "      <td>0.166667</td>\n",
       "    </tr>\n",
       "    <tr>\n",
       "      <th>1877</th>\n",
       "      <td>2</td>\n",
       "      <td>685</td>\n",
       "      <td>62.68</td>\n",
       "      <td>1</td>\n",
       "      <td>6</td>\n",
       "      <td>2</td>\n",
       "      <td>0.035036</td>\n",
       "      <td>0.091504</td>\n",
       "      <td>0.041667</td>\n",
       "    </tr>\n",
       "    <tr>\n",
       "      <th>1878</th>\n",
       "      <td>4</td>\n",
       "      <td>1140</td>\n",
       "      <td>38.03</td>\n",
       "      <td>2</td>\n",
       "      <td>2</td>\n",
       "      <td>3</td>\n",
       "      <td>0.016667</td>\n",
       "      <td>0.033360</td>\n",
       "      <td>0.105263</td>\n",
       "    </tr>\n",
       "  </tbody>\n",
       "</table>\n",
       "<p>1879 rows × 9 columns</p>\n",
       "</div>"
      ],
      "text/plain": [
       "      trustLevel  totalScanTimeInSeconds  grandTotal  lineItemVoids  \\\n",
       "0              5                    1054       54.70              7   \n",
       "1              3                     108       27.36              5   \n",
       "2              3                    1516       62.16              3   \n",
       "3              6                    1791       92.31              8   \n",
       "4              5                     430       81.53              3   \n",
       "...          ...                     ...         ...            ...   \n",
       "1874           1                     321       76.03              8   \n",
       "1875           1                     397       41.89              5   \n",
       "1876           4                     316       41.83              5   \n",
       "1877           2                     685       62.68              1   \n",
       "1878           4                    1140       38.03              2   \n",
       "\n",
       "      scansWithoutRegistration  quantityModifications  \\\n",
       "0                            0                      3   \n",
       "1                            2                      4   \n",
       "2                           10                      5   \n",
       "3                            4                      4   \n",
       "4                            7                      2   \n",
       "...                        ...                    ...   \n",
       "1874                         7                      2   \n",
       "1875                         5                      0   \n",
       "1876                         8                      1   \n",
       "1877                         6                      2   \n",
       "1878                         2                      3   \n",
       "\n",
       "      scannedLineItemsPerSecond  valuePerSecond  lineItemVoidsPerPosition  \n",
       "0                      0.027514        0.051898                  0.241379  \n",
       "1                      0.129630        0.253333                  0.357143  \n",
       "2                      0.008575        0.041003                  0.230769  \n",
       "3                      0.016192        0.051541                  0.275862  \n",
       "4                      0.062791        0.189605                  0.111111  \n",
       "...                         ...             ...                       ...  \n",
       "1874                   0.071651        0.236854                  0.347826  \n",
       "1875                   0.065491        0.105516                  0.192308  \n",
       "1876                   0.094937        0.132373                  0.166667  \n",
       "1877                   0.035036        0.091504                  0.041667  \n",
       "1878                   0.016667        0.033360                  0.105263  \n",
       "\n",
       "[1879 rows x 9 columns]"
      ]
     },
     "execution_count": 6,
     "metadata": {},
     "output_type": "execute_result"
    }
   ],
   "source": [
    "X = df.drop(\"fraud\", axis = 1) # Mengambil semua atribut, kecuali fraud.\n",
    "X                              # Memastikan atribut fraud sudah hilang."
   ]
  },
  {
   "cell_type": "code",
   "execution_count": 7,
   "id": "d201f4a9",
   "metadata": {},
   "outputs": [
    {
     "data": {
      "text/plain": [
       "0       0\n",
       "1       0\n",
       "2       0\n",
       "3       0\n",
       "4       0\n",
       "       ..\n",
       "1874    0\n",
       "1875    1\n",
       "1876    0\n",
       "1877    0\n",
       "1878    0\n",
       "Name: fraud, Length: 1879, dtype: int64"
      ]
     },
     "execution_count": 7,
     "metadata": {},
     "output_type": "execute_result"
    }
   ],
   "source": [
    "Y = df.fraud # Mengambil atribut fraud.\n",
    "Y            # Memastikan hanya fraud yang diambil atributnya."
   ]
  },
  {
   "cell_type": "markdown",
   "id": "0ce5ce4a",
   "metadata": {},
   "source": [
    "#### Memisahkan X_Train, X_Test, Y_Train, dan Y_Test."
   ]
  },
  {
   "cell_type": "code",
   "execution_count": 8,
   "id": "d824ae83",
   "metadata": {},
   "outputs": [],
   "source": [
    "X_train, X_test, Y_train, Y_test = train_test_split(X, Y, test_size = 0.2, random_state = 123)\n",
    "\n",
    "# Menyimpan nama kolom untuk keperluan prediksi.\n",
    "with open('D:\\\\University\\\\Semester 03\\\\Data Mining and Warehouse\\\\Klasifikasi\\\\x_train_columns.pickle', 'wb') as fp:\n",
    "    pickle.dump(X_train.columns, fp)"
   ]
  },
  {
   "cell_type": "markdown",
   "id": "a4225e23",
   "metadata": {},
   "source": [
    "### Klasifikasi Bayessian."
   ]
  },
  {
   "cell_type": "code",
   "execution_count": 9,
   "id": "bbe1dbae",
   "metadata": {},
   "outputs": [
    {
     "name": "stdout",
     "output_type": "stream",
     "text": [
      "Accuracy : 0.8670212765957447\n",
      "              precision    recall  f1-score   support\n",
      "\n",
      "           0       1.00      0.86      0.93       361\n",
      "           1       0.23      1.00      0.38        15\n",
      "\n",
      "    accuracy                           0.87       376\n",
      "   macro avg       0.62      0.93      0.65       376\n",
      "weighted avg       0.97      0.87      0.90       376\n",
      "\n",
      "[[311  50]\n",
      " [  0  15]]\n"
     ]
    }
   ],
   "source": [
    "# Proses.\n",
    "clf_bayes = GaussianNB()                     \n",
    "clf_bayes.fit(X_train, Y_train)\n",
    "Y_pred = clf_bayes.predict(X_test)\n",
    "acc = accuracy_score(Y_test, Y_pred)\n",
    "\n",
    "# Keluaran.\n",
    "print(\"Accuracy : {}\".format(acc))\n",
    "print(classification_report(Y_test, Y_pred))\n",
    "print(confusion_matrix(Y_test, Y_pred))"
   ]
  },
  {
   "cell_type": "markdown",
   "id": "774d3147",
   "metadata": {},
   "source": [
    "Jika dilihat dari hasil tersebut, model Naive Bayes mempunyai akurasi 86%, dengan keterangan berikut:\n",
    "\n",
    "* Prediksi untuk non-fraud (0) dibilang cukup baik karena hasilnya di atas 80%.\n",
    "* Prediksi untuk fraud (1) bisa dibilang kurang baik karena banyak yang nilainya di bawah 50%.\n",
    "* Dalam *confusion matrix* pun, banyak data test yang seharusnya berada di non-fraud malah diprediksi menjadi fraud.\n",
    "\n",
    "Untuk memperbaiki ini, coba dengan model klasifikasi berikutnya."
   ]
  },
  {
   "cell_type": "markdown",
   "id": "8f2fa898",
   "metadata": {},
   "source": [
    "### Klasifikasi Decision Tree."
   ]
  },
  {
   "cell_type": "code",
   "execution_count": 10,
   "id": "31d3b7ad",
   "metadata": {},
   "outputs": [
    {
     "name": "stdout",
     "output_type": "stream",
     "text": [
      "Accuracy : 0.976063829787234\n",
      "              precision    recall  f1-score   support\n",
      "\n",
      "           0       0.98      0.99      0.99       361\n",
      "           1       0.75      0.60      0.67        15\n",
      "\n",
      "    accuracy                           0.98       376\n",
      "   macro avg       0.87      0.80      0.83       376\n",
      "weighted avg       0.97      0.98      0.97       376\n",
      "\n",
      "[[358   3]\n",
      " [  6   9]]\n"
     ]
    }
   ],
   "source": [
    "# Proses.\n",
    "clf_tree = tree.DecisionTreeClassifier()\n",
    "clf_tree.fit(X_train, Y_train)\n",
    "Y_pred = clf_tree.predict(X_test)\n",
    "acc = accuracy_score(Y_test, Y_pred)\n",
    "\n",
    "# Keluaran.\n",
    "print(\"Accuracy : {}\".format(acc))\n",
    "print(classification_report(Y_test, Y_pred))\n",
    "print(confusion_matrix(Y_test, Y_pred))"
   ]
  },
  {
   "cell_type": "markdown",
   "id": "f43d3120",
   "metadata": {},
   "source": [
    "Jika dilihat dari hasil tersebut, model Decision Tree mempunyai akurasi 97%, dengan keterangan berikut:\n",
    "\n",
    "* Akurasi meningkat sekitar 11%, lebih baik daripada model sebelumnya.\n",
    "* Prediksi untuk non-fraud (0) dibilang sangat baik karena semua nilainya mendekati 100%.\n",
    "* Prediksi untuk fraud (1) mengalami peningkatan pada precision dan f1-score, tetapi penurunan pada recall. Semua nilai masih di bawah 80%.\n",
    "* Dalam *confusion matrix*, akurasi data test mengalami peningkatan.\n",
    "\n",
    "Untuk memperbaikinya lebih lanjut, coba dengan model klasifikasi berikutnya."
   ]
  },
  {
   "cell_type": "markdown",
   "id": "a9368bd7",
   "metadata": {},
   "source": [
    "### Klasifikasi Random Forest.\n",
    "Ada beberapa model Random Forest, tergantung seberapa besar n_estimators nya. Di sini, akan ada tiga perbandingan hasil klasifikasi (50, 100, 200)."
   ]
  },
  {
   "cell_type": "markdown",
   "id": "76be904d",
   "metadata": {},
   "source": [
    "#### n_estimators = 50."
   ]
  },
  {
   "cell_type": "code",
   "execution_count": 11,
   "id": "8938d832",
   "metadata": {},
   "outputs": [
    {
     "name": "stdout",
     "output_type": "stream",
     "text": [
      "Accuracy : 0.9867021276595744\n",
      "              precision    recall  f1-score   support\n",
      "\n",
      "           0       0.99      1.00      0.99       361\n",
      "           1       1.00      0.67      0.80        15\n",
      "\n",
      "    accuracy                           0.99       376\n",
      "   macro avg       0.99      0.83      0.90       376\n",
      "weighted avg       0.99      0.99      0.99       376\n",
      "\n",
      "[[361   0]\n",
      " [  5  10]]\n"
     ]
    }
   ],
   "source": [
    "# Proses.\n",
    "clf_rforest = RandomForestClassifier(n_estimators = 50, random_state = 123)\n",
    "clf_rforest.fit(X_train, Y_train)\n",
    "Y_pred = clf_rforest.predict(X_test)\n",
    "acc = accuracy_score(Y_test, Y_pred)\n",
    "\n",
    "# Keluaran.\n",
    "print(\"Accuracy : {}\".format(acc))\n",
    "print(classification_report(Y_test, Y_pred))\n",
    "print(confusion_matrix(Y_test, Y_pred))"
   ]
  },
  {
   "cell_type": "markdown",
   "id": "0398468b",
   "metadata": {},
   "source": [
    "Jika dilihat dari hasil tersebut, model RandomForest dengan n_estimators = 50 mempunyai akurasi 98%, dengan keterangan berikut:\n",
    "\n",
    "* Akurasi meningkat sekitar 1%.\n",
    "* Prediksi untuk non-fraud (0) dibilang sangat baik karena semua nilainya benar-benar mendekati 100%.\n",
    "* Prediksi untuk fraud (1) mengalami peningkatan.\n",
    "* Dalam *confusion matrix*, akurasi data test mengalami peningkatan. Bahkan tidak ada data non-fraud yang salah prediksi.\n",
    "\n",
    "Model Random Forest ini sudah cukup baik untuk digunakan dalam test."
   ]
  },
  {
   "cell_type": "markdown",
   "id": "c05f1330",
   "metadata": {},
   "source": [
    "#### n_estimators = 100."
   ]
  },
  {
   "cell_type": "code",
   "execution_count": 12,
   "id": "dc91cb47",
   "metadata": {},
   "outputs": [
    {
     "name": "stdout",
     "output_type": "stream",
     "text": [
      "Accuracy : 0.9893617021276596\n",
      "              precision    recall  f1-score   support\n",
      "\n",
      "           0       0.99      1.00      0.99       361\n",
      "           1       1.00      0.73      0.85        15\n",
      "\n",
      "    accuracy                           0.99       376\n",
      "   macro avg       0.99      0.87      0.92       376\n",
      "weighted avg       0.99      0.99      0.99       376\n",
      "\n",
      "[[361   0]\n",
      " [  4  11]]\n"
     ]
    }
   ],
   "source": [
    "# Proses.\n",
    "clf_rforest = RandomForestClassifier(n_estimators = 100, random_state = 123)\n",
    "clf_rforest.fit(X_train, Y_train)\n",
    "Y_pred = clf_rforest.predict(X_test)\n",
    "acc = accuracy_score(Y_test, Y_pred)\n",
    "\n",
    "# Keluaran.\n",
    "print(\"Accuracy : {}\".format(acc))\n",
    "print(classification_report(Y_test, Y_pred))\n",
    "print(confusion_matrix(Y_test, Y_pred))"
   ]
  },
  {
   "cell_type": "markdown",
   "id": "bdf9355a",
   "metadata": {},
   "source": [
    "Jika dilihat dari hasil tersebut, model RandomForest dengan n_estimators = 100 mempunyai akurasi mendekati 98%, dengan keterangan berikut:\n",
    "\n",
    "* Akurasi meningkat meski tidak signifikan.\n",
    "* Prediksi untuk fraud (1) mengalami peningkatan.\n",
    "* Dalam *confusion matrix*, akurasi data test mengalami peningkatan meski tidak signifikan.\n",
    "\n",
    "Ada satu model Random Forest lagi untuk dilihat."
   ]
  },
  {
   "cell_type": "markdown",
   "id": "d4a0a601",
   "metadata": {},
   "source": [
    "#### n_estimators = 200."
   ]
  },
  {
   "cell_type": "code",
   "execution_count": 13,
   "id": "211a7f31",
   "metadata": {},
   "outputs": [
    {
     "name": "stdout",
     "output_type": "stream",
     "text": [
      "Accuracy : 0.9920212765957447\n",
      "              precision    recall  f1-score   support\n",
      "\n",
      "           0       0.99      1.00      1.00       361\n",
      "           1       1.00      0.80      0.89        15\n",
      "\n",
      "    accuracy                           0.99       376\n",
      "   macro avg       1.00      0.90      0.94       376\n",
      "weighted avg       0.99      0.99      0.99       376\n",
      "\n",
      "[[361   0]\n",
      " [  3  12]]\n"
     ]
    }
   ],
   "source": [
    "# Proses.\n",
    "clf_rforest = RandomForestClassifier(n_estimators = 200, random_state = 123)\n",
    "clf_rforest.fit(X_train, Y_train)\n",
    "Y_pred = clf_rforest.predict(X_test)\n",
    "acc = accuracy_score(Y_test, Y_pred)\n",
    "\n",
    "# Keluaran.\n",
    "print(\"Accuracy : {}\".format(acc))\n",
    "print(classification_report(Y_test, Y_pred))\n",
    "print(confusion_matrix(Y_test, Y_pred))"
   ]
  },
  {
   "cell_type": "markdown",
   "id": "89cd6534",
   "metadata": {},
   "source": [
    "Jika dilihat dari hasil tersebut, model RandomForest dengan n_estimators = 200 mempunyai akurasi 99%, dengan keterangan berikut:\n",
    "\n",
    "* Akurasi sudah mencapai 99%, tetapi dengan jumlah n_estimators dua kali lipat, hal ini tentunya kurang baik.\n",
    "* Prediksi untuk fraud (1) mengalami peningkatan.\n",
    "\n",
    "Di sini, model klasifikasi Random Forest cukup hingga n_estimators = 200."
   ]
  },
  {
   "cell_type": "markdown",
   "id": "d79fe9b9",
   "metadata": {},
   "source": [
    "### Klasifikasi XGBoost."
   ]
  },
  {
   "cell_type": "code",
   "execution_count": 14,
   "id": "39f75e59",
   "metadata": {},
   "outputs": [
    {
     "name": "stdout",
     "output_type": "stream",
     "text": [
      "Akurasi 0.9920212765957447\n",
      "              precision    recall  f1-score   support\n",
      "\n",
      "           0       0.99      1.00      1.00       361\n",
      "           1       1.00      0.80      0.89        15\n",
      "\n",
      "    accuracy                           0.99       376\n",
      "   macro avg       1.00      0.90      0.94       376\n",
      "weighted avg       0.99      0.99      0.99       376\n",
      "\n",
      "[[361   0]\n",
      " [  3  12]]\n"
     ]
    }
   ],
   "source": [
    "# Proses.\n",
    "clf_xgb = xgb.XGBClassifier(use_label_encoder = False, objective = \"multi:softprob\",\n",
    "                            num_class = 4, eval_metric = \"mlogloss\", max_depth = 24,\n",
    "                            gamma = 0.1, subsample = 0.90, learning_rate = 0.01,\n",
    "                            n_estimators = 10, nthread = -1)\n",
    "\n",
    "clf_xgb.fit(X_train, Y_train)\n",
    "Y_pred = clf_xgb.predict(X_test)\n",
    "acc = accuracy_score(Y_test, Y_pred)\n",
    "\n",
    "# Keluaran.\n",
    "print(\"Akurasi {}\".format(acc))\n",
    "print(classification_report(Y_test, Y_pred))\n",
    "print(confusion_matrix(Y_test, Y_pred))"
   ]
  },
  {
   "cell_type": "markdown",
   "id": "a7639bfe",
   "metadata": {},
   "source": [
    "Jika dilihat dari hasil tersebut, model XGBoost mempunyai akurasi 99%, dengan keterangan berikut:\n",
    "\n",
    "* Akurasi sudah mencapai 99% yang menandakan model sangat baik.\n",
    "* Prediksi untuk fraud (1) mengalami peningkatan."
   ]
  },
  {
   "cell_type": "markdown",
   "id": "f306c3f7",
   "metadata": {},
   "source": [
    "### Menyimpan Model.\n",
    "Setelah berbagai macam proses tersebut, model akan disimpan untuk kemudian digunakan sebagai tes prediksi."
   ]
  },
  {
   "cell_type": "code",
   "execution_count": 15,
   "id": "e19b7af0",
   "metadata": {},
   "outputs": [
    {
     "data": {
      "text/plain": [
       "['D:\\\\University\\\\Semester 03\\\\Data Mining and Warehouse\\\\Klasifikasi\\\\XGBoost.joblib']"
      ]
     },
     "execution_count": 15,
     "metadata": {},
     "output_type": "execute_result"
    }
   ],
   "source": [
    "# Naive Bayes.\n",
    "joblib.dump(clf_bayes, \"D:\\\\University\\\\Semester 03\\\\Data Mining and Warehouse\\\\Klasifikasi\\\\naiveBayes.joblib\")\n",
    "\n",
    "# Decision Tree.\n",
    "joblib.dump(clf_tree, \"D:\\\\University\\\\Semester 03\\\\Data Mining and Warehouse\\\\Klasifikasi\\\\decisionTree.joblib\")\n",
    "\n",
    "# Random Forest.\n",
    "joblib.dump(clf_rforest, \"D:\\\\University\\\\Semester 03\\\\Data Mining and Warehouse\\\\Klasifikasi\\\\randomForest.joblib\")\n",
    "\n",
    "# XGBoost.\n",
    "joblib.dump(clf_xgb, \"D:\\\\University\\\\Semester 03\\\\Data Mining and Warehouse\\\\Klasifikasi\\\\XGBoost.joblib\")"
   ]
  }
 ],
 "metadata": {
  "kernelspec": {
   "display_name": "Python 3 (ipykernel)",
   "language": "python",
   "name": "python3"
  },
  "language_info": {
   "codemirror_mode": {
    "name": "ipython",
    "version": 3
   },
   "file_extension": ".py",
   "mimetype": "text/x-python",
   "name": "python",
   "nbconvert_exporter": "python",
   "pygments_lexer": "ipython3",
   "version": "3.9.7"
  }
 },
 "nbformat": 4,
 "nbformat_minor": 5
}
